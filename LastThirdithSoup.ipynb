{
 "cells": [
  {
   "cell_type": "code",
   "execution_count": 1,
   "metadata": {},
   "outputs": [],
   "source": [
    "import pandas as pd\n",
    "from datetime import datetime as dt\n",
    "from datetime import timedelta\n",
    "\n",
    "import json"
   ]
  },
  {
   "cell_type": "code",
   "execution_count": 2,
   "metadata": {},
   "outputs": [],
   "source": [
    "with open('govenLinkData.json' , 'r') as file:\n",
    "    htmlLinks = json.load(file)\n",
    "    \n",
    "#\"https://www.timesprayer.com/prayer-times-in-\"+htmlLinks['الأسكندرية']"
   ]
  },
  {
   "cell_type": "code",
   "execution_count": 3,
   "metadata": {},
   "outputs": [
    {
     "name": "stdout",
     "output_type": "stream",
     "text": [
      " 3:19 AM\n"
     ]
    }
   ],
   "source": [
    "from bs4 import BeautifulSoup\n",
    "from lxml import etree\n",
    "import requests\n",
    "\n",
    "\n",
    "URL = \"https://www.timesprayer.com/prayer-times-in-\"+htmlLinks['الأسكندرية']\n",
    "\n",
    "webpage = requests.get(URL)\n",
    "soup = BeautifulSoup(webpage.content, \"html.parser\")\n",
    "dom = etree.HTML(str(soup))\n",
    "print(dom.xpath('//*[@id=\"bodysection\"]/div[4]/div[1]/div[1]/ul/li[1]/text()')[0])\n"
   ]
  },
  {
   "cell_type": "code",
   "execution_count": 4,
   "metadata": {},
   "outputs": [],
   "source": [
    "def getLastThird(location):\n",
    "    link = htmlLinks[location]\n",
    "    \n",
    "    URL = \"https://www.timesprayer.com/prayer-times-in-\" + link\n",
    "    webpage = requests.get(URL)\n",
    "    soup = BeautifulSoup(webpage.content, \"html.parser\")\n",
    "    dom = etree.HTML(str(soup))\n",
    "    \n",
    "    \n",
    "    sunsetTime = dom.xpath('//*[@id=\"bodysection\"]/div[4]/div[1]/div[1]/ul/li[5]/text()')[0].strip()\n",
    "    fajrTime   = dom.xpath('//*[@id=\"bodysection\"]/div[4]/div[1]/div[1]/ul/li[1]/text()')[0].strip()\n",
    "    \n",
    "    \n",
    "    print('Maghrib is at: ', sunsetTime)\n",
    "    print('Fajr is at: '   , fajrTime)\n",
    "\n",
    "    t_maghrib = pd.to_datetime(sunsetTime)\n",
    "    t_fajr    = pd.to_datetime(fajrTime)\n",
    "\n",
    "    totalDifference = t_fajr - t_maghrib\n",
    "    lastThird = (totalDifference + timedelta(days = 1)) / 3 \n",
    "\n",
    "    startOfLastThird = (t_fajr - lastThird).time()\n",
    "    stringFormat = startOfLastThird.strftime(\"%H:%M:%S\")\n",
    "    \n",
    "    print(\"The Last Third of The Night Starts at :\", stringFormat)\n"
   ]
  },
  {
   "cell_type": "code",
   "execution_count": 5,
   "metadata": {},
   "outputs": [
    {
     "name": "stdout",
     "output_type": "stream",
     "text": [
      "Maghrib is at:  6:52 PM\n",
      "Fajr is at:  3:19 AM\n",
      "The Last Third of The Night Starts at : 00:30:00\n"
     ]
    }
   ],
   "source": [
    "getLastThird('الأسكندرية')"
   ]
  },
  {
   "cell_type": "code",
   "execution_count": null,
   "metadata": {},
   "outputs": [],
   "source": []
  }
 ],
 "metadata": {
  "kernelspec": {
   "display_name": "Python 3 (ipykernel)",
   "language": "python",
   "name": "python3"
  },
  "language_info": {
   "codemirror_mode": {
    "name": "ipython",
    "version": 3
   },
   "file_extension": ".py",
   "mimetype": "text/x-python",
   "name": "python",
   "nbconvert_exporter": "python",
   "pygments_lexer": "ipython3",
   "version": "3.7.3"
  }
 },
 "nbformat": 4,
 "nbformat_minor": 2
}
