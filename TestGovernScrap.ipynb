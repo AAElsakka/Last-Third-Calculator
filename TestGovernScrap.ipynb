{
 "cells": [
  {
   "cell_type": "markdown",
   "metadata": {},
   "source": [
    "# Overview\n",
    "\n",
    "***In This Notebook i'll scrap all the href Links of all Egyptian Governorates***"
   ]
  },
  {
   "cell_type": "code",
   "execution_count": 1,
   "metadata": {},
   "outputs": [],
   "source": [
    "from selenium import webdriver\n",
    "from selenium.webdriver.common.action_chains import ActionChains\n",
    "\n",
    "driver = webdriver.Chrome()\n",
    "action = ActionChains(driver)"
   ]
  },
  {
   "cell_type": "code",
   "execution_count": 2,
   "metadata": {},
   "outputs": [],
   "source": [
    "linkDict = dict()"
   ]
  },
  {
   "cell_type": "code",
   "execution_count": 3,
   "metadata": {},
   "outputs": [],
   "source": [
    "driver.get(\"https://timesprayer.com/prayer-times-cities-egypt.html\")\n",
    "governs = driver.find_elements_by_xpath(\"//div/ul[@class = 'lithird']/li/a\")\n",
    "\n",
    "governLinkData = {key.text : '-'.join(key.get_attribute('href').split('-')[3:]) for key in governs}\n",
    "linkDict.update(governLinkData)\n",
    "\n",
    "otherPagesPath = driver.find_elements_by_xpath(\"//div[@class='listurls']/a\")\n",
    "secondPagePath = otherPagesPath[0].get_attribute('href')\n",
    "thirdPagePath  = otherPagesPath[1].get_attribute('href')\n",
    "\n",
    "driver.get(secondPagePath)\n",
    "governs = driver.find_elements_by_xpath(\"//div/ul[@class = 'lithird']/li/a\")\n",
    "\n",
    "governLinkData = {key.text : '-'.join(key.get_attribute('href').split('-')[3:]) for key in governs}\n",
    "linkDict.update(governLinkData)\n",
    "\n",
    "driver.get(thirdPagePath)\n",
    "governs = driver.find_elements_by_xpath(\"//div/ul[@class = 'lithird']/li/a\")\n",
    "\n",
    "governLinkData = {key.text : '-'.join(key.get_attribute('href').split('-')[3:]) for key in governs}\n",
    "linkDict.update(governLinkData)"
   ]
  },
  {
   "cell_type": "code",
   "execution_count": 4,
   "metadata": {
    "scrolled": true
   },
   "outputs": [],
   "source": [
    "#governLinkData = {key.text : '-'.join(key.get_attribute('href').split('-')[3:]) for key in governs}"
   ]
  },
  {
   "cell_type": "code",
   "execution_count": 5,
   "metadata": {},
   "outputs": [],
   "source": [
    "import json\n",
    "\n",
    "with open('govenLinkData.json', 'w') as file:\n",
    "    json.dump(linkDict, file,\n",
    "              indent = 4)"
   ]
  },
  {
   "cell_type": "code",
   "execution_count": 6,
   "metadata": {},
   "outputs": [
    {
     "data": {
      "text/plain": [
       "'cairo.html'"
      ]
     },
     "execution_count": 6,
     "metadata": {},
     "output_type": "execute_result"
    }
   ],
   "source": [
    "linkDict['القاهرة']"
   ]
  },
  {
   "cell_type": "code",
   "execution_count": null,
   "metadata": {},
   "outputs": [],
   "source": []
  }
 ],
 "metadata": {
  "kernelspec": {
   "display_name": "Python 3 (ipykernel)",
   "language": "python",
   "name": "python3"
  },
  "language_info": {
   "codemirror_mode": {
    "name": "ipython",
    "version": 3
   },
   "file_extension": ".py",
   "mimetype": "text/x-python",
   "name": "python",
   "nbconvert_exporter": "python",
   "pygments_lexer": "ipython3",
   "version": "3.7.3"
  }
 },
 "nbformat": 4,
 "nbformat_minor": 2
}
