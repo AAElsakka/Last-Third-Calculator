{
 "cells": [
  {
   "cell_type": "markdown",
   "metadata": {},
   "source": [
    "# Overview\n",
    "\n",
    "in this notebook i will extract the sunset and fajr's prayer time and calculate the last third of the night"
   ]
  },
  {
   "cell_type": "code",
   "execution_count": 1,
   "metadata": {},
   "outputs": [],
   "source": [
    "from selenium import webdriver\n",
    "driver = webdriver.Chrome()"
   ]
  },
  {
   "cell_type": "code",
   "execution_count": 2,
   "metadata": {},
   "outputs": [],
   "source": [
    "driver.get(\"https://www.timesprayer.com/prayer-times-in-alexandria.html\")\n",
    "\n",
    "sunsetTime = driver.find_elements_by_xpath(\"//div[@class='info prayertable mobile']/div/ul/li[5]\")\n",
    "fajrTime   = driver.find_elements_by_xpath(\"//div[@class='info prayertable mobile']/div/ul/li[1]\")"
   ]
  },
  {
   "cell_type": "code",
   "execution_count": 3,
   "metadata": {},
   "outputs": [],
   "source": [
    "maghrib = [' '.join(time.text.split()[2:]) for time in sunsetTime][0]\n",
    "fajr    = [' '.join(time.text.split()[2:]) for time in fajrTime][0]"
   ]
  },
  {
   "cell_type": "code",
   "execution_count": 4,
   "metadata": {},
   "outputs": [
    {
     "name": "stdout",
     "output_type": "stream",
     "text": [
      "Maghrib is at:  5:51 PM\n",
      "Fajr is at:  5:10 AM\n"
     ]
    }
   ],
   "source": [
    "print('Maghrib is at: ', maghrib)\n",
    "print('Fajr is at: '   , fajr)"
   ]
  },
  {
   "cell_type": "code",
   "execution_count": 5,
   "metadata": {},
   "outputs": [
    {
     "name": "stderr",
     "output_type": "stream",
     "text": [
      "F:\\Anaconda\\Anaconda_4_python3\\lib\\site-packages\\pandas\\compat\\_optional.py:138: UserWarning: Pandas requires version '2.7.0' or newer of 'numexpr' (version '2.6.9' currently installed).\n",
      "  warnings.warn(msg, UserWarning)\n"
     ]
    }
   ],
   "source": [
    "import pandas as pd\n",
    "from datetime import datetime as dt\n",
    "from datetime import timedelta\n",
    "\n",
    "t_maghrib = pd.to_datetime(maghrib)\n",
    "t_fajr    = pd.to_datetime(fajr)\n",
    "\n",
    "totalDifference = t_fajr - t_maghrib\n",
    "lastThird = (totalDifference + timedelta(days = 1)) / 3 \n",
    "\n",
    "startOfLastThird = (t_fajr - lastThird).time()\n",
    "stringFormat = startOfLastThird.strftime(\"%H:%M:%S\")"
   ]
  },
  {
   "cell_type": "code",
   "execution_count": 6,
   "metadata": {},
   "outputs": [
    {
     "name": "stdout",
     "output_type": "stream",
     "text": [
      "The Last Third of The Night Starts at : 01:23:40\n"
     ]
    }
   ],
   "source": [
    "print(\"The Last Third of The Night Starts at :\", stringFormat)"
   ]
  }
 ],
 "metadata": {
  "kernelspec": {
   "display_name": "Python 3",
   "language": "python",
   "name": "python3"
  },
  "language_info": {
   "codemirror_mode": {
    "name": "ipython",
    "version": 3
   },
   "file_extension": ".py",
   "mimetype": "text/x-python",
   "name": "python",
   "nbconvert_exporter": "python",
   "pygments_lexer": "ipython3",
   "version": "3.7.3"
  }
 },
 "nbformat": 4,
 "nbformat_minor": 2
}
