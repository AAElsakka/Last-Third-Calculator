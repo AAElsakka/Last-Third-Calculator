{
 "cells": [
  {
   "cell_type": "code",
   "execution_count": 2,
   "metadata": {},
   "outputs": [],
   "source": [
    "from selenium import webdriver\n",
    "driver = webdriver.Chrome()\n",
    "\n",
    "import pandas as pd\n",
    "from datetime import datetime as dt\n",
    "from datetime import timedelta\n",
    "\n",
    "import json"
   ]
  },
  {
   "cell_type": "code",
   "execution_count": 3,
   "metadata": {},
   "outputs": [],
   "source": [
    "with open('govenLinkData.json' , 'r') as file:\n",
    "    htmlLinks = json.load(file)\n",
    "    \n",
    "#\"https://www.timesprayer.com/prayer-times-in-\"+htmlLinks['الأسكندرية']"
   ]
  },
  {
   "cell_type": "code",
   "execution_count": 4,
   "metadata": {},
   "outputs": [],
   "source": [
    "# pass the link directly \n",
    "\n",
    "def getLastThird(location):\n",
    "    link = htmlLinks[location]\n",
    "    \n",
    "    driver.get(\"https://www.timesprayer.com/prayer-times-in-\" + link)\n",
    "    \n",
    "    sunsetTime = driver.find_elements_by_xpath(\"//div[@class='info prayertable mobile']/div/ul/li[5]\")\n",
    "    fajrTime   = driver.find_elements_by_xpath(\"//div[@class='info prayertable mobile']/div/ul/li[1]\")\n",
    "    \n",
    "    maghrib = [' '.join(time.text.split()[2:]) for time in sunsetTime][0]\n",
    "    fajr    = [' '.join(time.text.split()[2:]) for time in fajrTime][0]\n",
    "    \n",
    "    print('Maghrib is at: ', maghrib)\n",
    "    print('Fajr is at: '   , fajr)\n",
    "\n",
    "    t_maghrib = pd.to_datetime(maghrib)\n",
    "    t_fajr    = pd.to_datetime(fajr)\n",
    "\n",
    "    totalDifference = t_fajr - t_maghrib\n",
    "    lastThird = (totalDifference + timedelta(days = 1)) / 3 \n",
    "\n",
    "    startOfLastThird = (t_fajr - lastThird).time()\n",
    "    stringFormat = startOfLastThird.strftime(\"%H:%M:%S\")\n",
    "    \n",
    "    print(\"The Last Third of The Night Starts at :\", stringFormat)\n",
    "    \n",
    "    driver.quit()"
   ]
  },
  {
   "cell_type": "code",
   "execution_count": 5,
   "metadata": {},
   "outputs": [
    {
     "name": "stdout",
     "output_type": "stream",
     "text": [
      "Maghrib is at:  6:52 PM\n",
      "Fajr is at:  3:20 AM\n",
      "The Last Third of The Night Starts at : 00:30:40\n"
     ]
    }
   ],
   "source": [
    "getLastThird('الأسكندرية')"
   ]
  },
  {
   "cell_type": "code",
   "execution_count": null,
   "metadata": {},
   "outputs": [],
   "source": []
  }
 ],
 "metadata": {
  "kernelspec": {
   "display_name": "Python 3 (ipykernel)",
   "language": "python",
   "name": "python3"
  },
  "language_info": {
   "codemirror_mode": {
    "name": "ipython",
    "version": 3
   },
   "file_extension": ".py",
   "mimetype": "text/x-python",
   "name": "python",
   "nbconvert_exporter": "python",
   "pygments_lexer": "ipython3",
   "version": "3.7.3"
  }
 },
 "nbformat": 4,
 "nbformat_minor": 2
}
